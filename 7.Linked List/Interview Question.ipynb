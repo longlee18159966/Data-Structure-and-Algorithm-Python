{
 "cells": [
  {
   "cell_type": "markdown",
   "metadata": {},
   "source": [
    "### Linked List Class"
   ]
  },
  {
   "cell_type": "code",
   "execution_count": 146,
   "metadata": {},
   "outputs": [
    {
     "name": "stdout",
     "output_type": "stream",
     "text": [
      "2 -> 7 -> 4 -> 0 -> 4 -> 4 -> 2 -> 18\n",
      "8\n"
     ]
    }
   ],
   "source": [
    "class Node:\n",
    "    def __init__(self, value=None):\n",
    "        self.value = value\n",
    "        self.next = None\n",
    "        self.previous = None\n",
    "\n",
    "    def __str__(self):\n",
    "        return str(self.value)\n",
    "\n",
    "class LinkedList:\n",
    "    def __init__(self, value=None):\n",
    "        self.head = None\n",
    "        self.tail = None\n",
    "\n",
    "    def __iter__(self):\n",
    "        curNode = self.head\n",
    "        while curNode:\n",
    "            yield curNode\n",
    "            curNode = curNode.next\n",
    "\n",
    "    def __str__(self):\n",
    "        values = [str(x.value) for x in self]\n",
    "        return \" -> \".join(values)\n",
    "\n",
    "    def __len__(self):\n",
    "        result = 0\n",
    "        node = self.head\n",
    "        while node:\n",
    "            result += 1\n",
    "            node = node.next\n",
    "        return result\n",
    "\n",
    "    def addEnd(self, value):\n",
    "        if self.head == None:\n",
    "            newNode = Node(value)\n",
    "            self.head = newNode\n",
    "            self.tail = newNode\n",
    "        else:\n",
    "            self.tail.next = Node(value)\n",
    "            self.tail = self.tail.next\n",
    "        return self.tail\n",
    "    \n",
    "    def generate(self, n, min_val, max_val):\n",
    "        from random import randint\n",
    "        self.head = None\n",
    "        self.tail = None\n",
    "        for i in range(n):\n",
    "            self.addEnd(randint(min_val, max_val))\n",
    "        return self\n",
    "\n",
    "\n",
    "# Test code\n",
    "customll = LinkedList()\n",
    "customll.generate(8, 0, 20)\n",
    "print(customll)\n",
    "print(len(customll))"
   ]
  },
  {
   "cell_type": "markdown",
   "metadata": {},
   "source": [
    "### Question 1: Remove Duplicates\n",
    "##### Write code to remove duplicates from an unsorted linked list"
   ]
  },
  {
   "cell_type": "code",
   "execution_count": 147,
   "metadata": {},
   "outputs": [
    {
     "name": "stdout",
     "output_type": "stream",
     "text": [
      "3 -> 7 -> 8 -> 2 -> 3 -> 4 -> 6 -> 2 -> 7 -> 2 -> 6 -> 10 -> 6 -> 8 -> 7 -> 10 -> 0 -> 0 -> 0 -> 2 -> 3 -> 3 -> 3\n",
      "3 -> 7 -> 8 -> 2 -> 4 -> 6 -> 10 -> 0\n"
     ]
    }
   ],
   "source": [
    "def RemoveDuplicate(linkedlist: LinkedList):\n",
    "    # Time complexity: O(n^2)\n",
    "    # Space complexity: O(n)\n",
    "    curNode = linkedlist.head\n",
    "    if curNode == None:\n",
    "        return \"Linked List is empty\"\n",
    "    while curNode:\n",
    "        key = curNode.value\n",
    "        runner = curNode\n",
    "        while runner.next:\n",
    "            if key == runner.next.value:\n",
    "                runner.next = runner.next.next\n",
    "            else:\n",
    "                runner = runner.next\n",
    "        curNode = curNode.next\n",
    "    return linkedlist\n",
    "customll = LinkedList()\n",
    "customll.generate(20, 0, 10)\n",
    "customll.addEnd(3)\n",
    "customll.addEnd(3)\n",
    "customll.addEnd(3)\n",
    "print(customll)\n",
    "print(RemoveDuplicate(customll))"
   ]
  },
  {
   "cell_type": "markdown",
   "metadata": {},
   "source": [
    "### Question 2: Return Nth to Last\n",
    "##### Implement an algorithm to find the nth to last element of a singly linked list."
   ]
  },
  {
   "cell_type": "code",
   "execution_count": 148,
   "metadata": {},
   "outputs": [
    {
     "name": "stdout",
     "output_type": "stream",
     "text": [
      "3 -> 7 -> 8 -> 2 -> 4 -> 6 -> 10 -> 0\n"
     ]
    },
    {
     "data": {
      "text/plain": [
       "10"
      ]
     },
     "execution_count": 148,
     "metadata": {},
     "output_type": "execute_result"
    }
   ],
   "source": [
    "def ReturnNthToLast(ll: LinkedList, n: int):\n",
    "    # Time: O(n)\n",
    "    # Space: O(n)\n",
    "    location = len(ll) - n\n",
    "    if location < 0:\n",
    "        return \"Error number\"\n",
    "    curNode = ll.head\n",
    "    index = 0\n",
    "    while index < location:\n",
    "        index += 1\n",
    "        curNode = curNode.next\n",
    "    return curNode.value\n",
    "print(customll)\n",
    "ReturnNthToLast(customll, 2)"
   ]
  },
  {
   "cell_type": "markdown",
   "metadata": {},
   "source": [
    "### Question 3: Partition\n",
    "##### Write code to partition a linked list around a value x, such that all node less than x come before all nodes greater than or equal to x."
   ]
  },
  {
   "cell_type": "code",
   "execution_count": 149,
   "metadata": {},
   "outputs": [
    {
     "name": "stdout",
     "output_type": "stream",
     "text": [
      "3 -> 7 -> 8 -> 2 -> 4 -> 6 -> 10 -> 0\n",
      "0 -> 2 -> 3 -> 4 -> 7 -> 8 -> 6 -> 10\n"
     ]
    }
   ],
   "source": [
    "def partition(ll: LinkedList, x: int):\n",
    "    # Time: O(n)\n",
    "    # Space: O(n)\n",
    "    retval = LinkedList()\n",
    "    retval.addEnd(x)\n",
    "    curNode = ll.head\n",
    "    while curNode:\n",
    "        if curNode.value > x:\n",
    "            # Add to end\n",
    "            retval.addEnd(curNode.value)\n",
    "        elif curNode.value < x:\n",
    "            # Add to first\n",
    "            newNode = Node(curNode.value)\n",
    "            newNode.next = retval.head\n",
    "            retval.head = newNode\n",
    "        curNode = curNode.next\n",
    "    return retval\n",
    "a = partition(customll, 4)\n",
    "print(customll)\n",
    "print(a)"
   ]
  },
  {
   "cell_type": "markdown",
   "metadata": {},
   "source": [
    "## Question 4: Sum Lists\n",
    "#### You have two numbers represented by a linked list, where each node contains a single digit. The digits are stored in reverse order, such that the 1's digit is at the head of the list. Write a function that adds the two numbers and return the sum as a linked list."
   ]
  },
  {
   "cell_type": "code",
   "execution_count": 150,
   "metadata": {},
   "outputs": [
    {
     "name": "stdout",
     "output_type": "stream",
     "text": [
      "4 -> 3 -> 9 -> 6\n",
      "3 -> 5 -> 2 -> 5\n",
      "12187\n",
      "7 -> 8 -> 1 -> 2 -> 1\n"
     ]
    }
   ],
   "source": [
    "def getnumer(ll: LinkedList):\n",
    "    # Time: O(n)\n",
    "    # Space: O(1)\n",
    "    curNode = ll.head\n",
    "    num = 0\n",
    "    index = 0\n",
    "    while curNode != None:\n",
    "        num += int(curNode.value) * pow(10, index)\n",
    "        index += 1\n",
    "        curNode = curNode.next\n",
    "    return num\n",
    "\n",
    "def sumlists(ll1: LinkedList, ll2: LinkedList):\n",
    "    # Time: O(n)\n",
    "    # Space: O(n)\n",
    "    sum_ret = getnumer(ll1) + getnumer(ll2)\n",
    "    ret_l = LinkedList()\n",
    "    print(sum_ret)\n",
    "    while sum_ret != 0:\n",
    "        ret_l.addEnd(sum_ret % 10)\n",
    "        sum_ret = sum_ret // 10\n",
    "    return ret_l\n",
    "ll1 = LinkedList().generate(4, 0, 9)\n",
    "ll2 = LinkedList().generate(4, 0, 9)\n",
    "print(ll1)\n",
    "print(ll2)\n",
    "print(sumlists(ll1, ll2))"
   ]
  },
  {
   "cell_type": "markdown",
   "metadata": {},
   "source": [
    "### Question 5: Intersection\n",
    "##### Give two(singly) linked lists, determine if the two lists intersect. Return the intersecting node. Note that the intersection is defined base on reference, not value. That is, if the kth node of the first linked list is the exact same node (by refernce) as the jth node of the second linked list, then they are intersecting."
   ]
  },
  {
   "cell_type": "code",
   "execution_count": 151,
   "metadata": {},
   "outputs": [
    {
     "name": "stdout",
     "output_type": "stream",
     "text": [
      "2 -> 7 -> 0 -> 5 -> 13 -> 43 -> 16 -> 13 -> 16 -> 18 -> 10\n",
      "1 -> 9 -> 7 -> 6 -> 13 -> 43 -> 16 -> 13 -> 16 -> 18 -> 10\n",
      "13 -> 43 -> 16 -> 13 -> 16 -> 18 -> 10\n"
     ]
    }
   ],
   "source": [
    "def intersection(ll1: LinkedList, ll2: LinkedList):\n",
    "    if ll1.tail is not ll2.tail:\n",
    "        return False\n",
    "    len1 = len(ll1)\n",
    "    len2 = len(ll2)\n",
    "    longer = ll1 if len1 > len2 else ll2\n",
    "    shorter = ll2 if len2 < len1 else ll1\n",
    "    diff = len(longer) - len(shorter)\n",
    "    longNode = longer.head\n",
    "    shortNode = shorter.head\n",
    "    for i in range(diff):\n",
    "        longNode = longNode.next\n",
    "    while longNode is not shortNode:\n",
    "        longNode = longNode.next\n",
    "        shortNode = shortNode.next\n",
    "    ret_ll = LinkedList()\n",
    "    while longNode:\n",
    "        ret_ll.addEnd(longNode.value)\n",
    "        longNode = longNode.next\n",
    "    return ret_ll\n",
    "\n",
    "def addSamenode(ll1: LinkedList, ll2: LinkedList, value: int):\n",
    "    newNode = Node(value)\n",
    "    ll1.tail.next = newNode\n",
    "    ll1.tail = ll1.tail.next\n",
    "    ll2.tail.next = newNode\n",
    "    ll2.tail = ll2.tail.next\n",
    "\n",
    "ll1 = LinkedList().generate(4, 0, 9)\n",
    "ll2 = LinkedList().generate(4, 0, 9)\n",
    "addSamenode(ll1, ll2, 13)\n",
    "addSamenode(ll1, ll2, 43)\n",
    "addSamenode(ll1, ll2, 16)\n",
    "addSamenode(ll1, ll2, 13)\n",
    "addSamenode(ll1, ll2, 16)\n",
    "addSamenode(ll1, ll2, 18)\n",
    "addSamenode(ll1, ll2, 10)\n",
    "print(ll1)\n",
    "print(ll2)\n",
    "print(intersection(ll1, ll2))\n"
   ]
  },
  {
   "cell_type": "code",
   "execution_count": null,
   "metadata": {},
   "outputs": [],
   "source": []
  }
 ],
 "metadata": {
  "interpreter": {
   "hash": "b3ba2566441a7c06988d0923437866b63cedc61552a5af99d1f4fb67d367b25f"
  },
  "kernelspec": {
   "display_name": "Python 3.9.7 ('base')",
   "language": "python",
   "name": "python3"
  },
  "language_info": {
   "codemirror_mode": {
    "name": "ipython",
    "version": 3
   },
   "file_extension": ".py",
   "mimetype": "text/x-python",
   "name": "python",
   "nbconvert_exporter": "python",
   "pygments_lexer": "ipython3",
   "version": "3.9.7"
  },
  "orig_nbformat": 4
 },
 "nbformat": 4,
 "nbformat_minor": 2
}
