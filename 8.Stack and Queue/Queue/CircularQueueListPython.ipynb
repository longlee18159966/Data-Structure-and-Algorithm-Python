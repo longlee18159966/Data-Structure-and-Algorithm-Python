{
 "cells": [
  {
   "cell_type": "code",
   "execution_count": 52,
   "metadata": {},
   "outputs": [],
   "source": [
    "class CircularQueue:\n",
    "    def __init__(self, maxSize):\n",
    "        # Time: O(1)\n",
    "        # Space: O(n)\n",
    "        self.items = maxSize * [None]\n",
    "        self.maxSize = maxSize\n",
    "        self.start = -1\n",
    "        self.stop = -1\n",
    "\n",
    "    def __str__(self):\n",
    "        values = [str(x) for x in self.items]\n",
    "        return \" \".join(values)\n",
    "\n",
    "    def IsFull(self):\n",
    "        # Time: O(1)\n",
    "        # Space: O(1)\n",
    "        if self.stop + 1 == self.start:\n",
    "            return True\n",
    "        elif self.start == 0 and self.stop + 1 == self.maxSize:\n",
    "            return True\n",
    "        else:\n",
    "            return False\n",
    "\n",
    "    def IsEmpty(self):\n",
    "        # Time: O(1)\n",
    "        # Space: O(1)\n",
    "        if self.start == self.stop == -1:\n",
    "            return True\n",
    "        else:\n",
    "            return False\n",
    "\n",
    "    def EnQueue(self, value):\n",
    "        # Time: O(1)\n",
    "        # Space: O(1)\n",
    "        if self.IsFull():\n",
    "            return \"Queue is full.\"\n",
    "        else:\n",
    "            if self.stop + 1 == self.maxSize:\n",
    "                self.stop = 0\n",
    "            else:\n",
    "                self.stop += 1\n",
    "                if self.start == -1:\n",
    "                    self.start = 0\n",
    "            self.items[self.stop] = value\n",
    "            return \"The element is inserted at the end of Queue.\"\n",
    "\n",
    "    def DeQueue(self):\n",
    "        # Time: O(1)\n",
    "        # Space: O(1)\n",
    "        if self.IsEmpty():\n",
    "            return \"The Queue is empty.\"\n",
    "        else:\n",
    "            firstElement = self.items[self.start]\n",
    "            start = self.start\n",
    "            if self.start == self.stop == 0:\n",
    "                self.start -= 1\n",
    "                self.stop -= 1\n",
    "            elif self.start + 1 == self.maxSize:\n",
    "                self.start = 0\n",
    "            else:\n",
    "                self.start += 1\n",
    "            self.items[start] = None\n",
    "            return firstElement\n",
    "\n",
    "    def Peak(self):\n",
    "        # Time: O(1)\n",
    "        # Space: O(1)\n",
    "        if self.IsEmpty():\n",
    "            return \"Queue is empty.\"\n",
    "        else:\n",
    "            return self.items[self.start]\n",
    "\n",
    "    def Delete(self):\n",
    "        # Time: O(1)\n",
    "        # Space: O(1)\n",
    "        self.items = self.maxSize * [None]\n",
    "        self.start = self.stop = -1\n",
    "\n",
    "\n",
    "\n"
   ]
  },
  {
   "cell_type": "code",
   "execution_count": 53,
   "metadata": {},
   "outputs": [
    {
     "name": "stdout",
     "output_type": "stream",
     "text": [
      "23 45 56 None\n"
     ]
    },
    {
     "data": {
      "text/plain": [
       "'Queue is full.'"
      ]
     },
     "execution_count": 53,
     "metadata": {},
     "output_type": "execute_result"
    }
   ],
   "source": [
    "customQueue = CircularQueue(4)\n",
    "customQueue.IsFull()\n",
    "customQueue.IsEmpty()\n",
    "customQueue.EnQueue(23)\n",
    "customQueue.EnQueue(45)\n",
    "customQueue.EnQueue(56)\n",
    "print(customQueue)\n",
    "customQueue.EnQueue(234)\n",
    "customQueue.EnQueue(58)\n",
    "customQueue.EnQueue(123)"
   ]
  },
  {
   "cell_type": "code",
   "execution_count": 54,
   "metadata": {},
   "outputs": [
    {
     "name": "stdout",
     "output_type": "stream",
     "text": [
      "23 45 56 234\n"
     ]
    }
   ],
   "source": [
    "print(customQueue)"
   ]
  },
  {
   "cell_type": "code",
   "execution_count": 55,
   "metadata": {},
   "outputs": [
    {
     "data": {
      "text/plain": [
       "23"
      ]
     },
     "execution_count": 55,
     "metadata": {},
     "output_type": "execute_result"
    }
   ],
   "source": [
    "customQueue.DeQueue()"
   ]
  },
  {
   "cell_type": "code",
   "execution_count": 56,
   "metadata": {},
   "outputs": [
    {
     "name": "stdout",
     "output_type": "stream",
     "text": [
      "None 45 56 234\n"
     ]
    }
   ],
   "source": [
    "print(customQueue)"
   ]
  },
  {
   "cell_type": "code",
   "execution_count": 57,
   "metadata": {},
   "outputs": [
    {
     "data": {
      "text/plain": [
       "45"
      ]
     },
     "execution_count": 57,
     "metadata": {},
     "output_type": "execute_result"
    }
   ],
   "source": [
    "customQueue.EnQueue(67)\n",
    "customQueue.Peak()"
   ]
  },
  {
   "cell_type": "code",
   "execution_count": 58,
   "metadata": {},
   "outputs": [
    {
     "name": "stdout",
     "output_type": "stream",
     "text": [
      "67 None 56 234\n"
     ]
    },
    {
     "data": {
      "text/plain": [
       "56"
      ]
     },
     "execution_count": 58,
     "metadata": {},
     "output_type": "execute_result"
    }
   ],
   "source": [
    "customQueue.DeQueue()\n",
    "print(customQueue)\n",
    "customQueue.Peak()"
   ]
  },
  {
   "cell_type": "code",
   "execution_count": 59,
   "metadata": {},
   "outputs": [
    {
     "name": "stdout",
     "output_type": "stream",
     "text": [
      "None None None None\n"
     ]
    }
   ],
   "source": [
    "customQueue.Delete()\n",
    "print(customQueue)"
   ]
  }
 ],
 "metadata": {
  "interpreter": {
   "hash": "b3ba2566441a7c06988d0923437866b63cedc61552a5af99d1f4fb67d367b25f"
  },
  "kernelspec": {
   "display_name": "Python 3.9.7 ('base')",
   "language": "python",
   "name": "python3"
  },
  "language_info": {
   "codemirror_mode": {
    "name": "ipython",
    "version": 3
   },
   "file_extension": ".py",
   "mimetype": "text/x-python",
   "name": "python",
   "nbconvert_exporter": "python",
   "pygments_lexer": "ipython3",
   "version": "3.9.7"
  },
  "orig_nbformat": 4
 },
 "nbformat": 4,
 "nbformat_minor": 2
}
