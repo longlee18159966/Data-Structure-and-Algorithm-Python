{
 "cells": [
  {
   "cell_type": "code",
   "execution_count": 6,
   "metadata": {},
   "outputs": [],
   "source": [
    "class Queue:\n",
    "    def __init__(self):\n",
    "        # Time: O(1)\n",
    "        # Space: O(1)\n",
    "        self.items = []\n",
    "\n",
    "    def __str__(self):\n",
    "        # Time: O(n)\n",
    "        # Space: O(n)\n",
    "        values = [str(x) for x in self.items]\n",
    "        return \" \".join(values)\n",
    "\n",
    "    def IsEmpty(self):\n",
    "        # Time: O(1)\n",
    "        # Space: O(1)\n",
    "        if self.items == []:\n",
    "            return True\n",
    "        return False\n",
    "\n",
    "    def EnQueue(self, value):\n",
    "        # Time: O(n^2)\n",
    "        # Space: O(1)\n",
    "        self.items.append(value)\n",
    "        return \"The element is inserted at the end of Queue\"\n",
    "\n",
    "    def DeQueue(self):\n",
    "        # Time: O(n)\n",
    "        # Space: O(1) \n",
    "        if self.IsEmpty():\n",
    "            return \"Queue is empty.\"\n",
    "        return self.items.pop(0)            # Remove first element in list\n",
    "\n",
    "    def Peak(self):\n",
    "        # Time: O(1)\n",
    "        # Space: O(1)\n",
    "        if self.IsEmpty():\n",
    "            return \"Queue is empty.\"\n",
    "        return self.items[0]\n",
    "\n",
    "    def Delete(self):\n",
    "        # Time: O(1)\n",
    "        # Space: O(1)\n",
    "        self.items = None"
   ]
  },
  {
   "cell_type": "code",
   "execution_count": 7,
   "metadata": {},
   "outputs": [
    {
     "name": "stdout",
     "output_type": "stream",
     "text": [
      "2 4 12\n"
     ]
    }
   ],
   "source": [
    "customQueue = Queue()\n",
    "customQueue.EnQueue(1)\n",
    "customQueue.EnQueue(2)\n",
    "customQueue.EnQueue(4)\n",
    "customQueue.EnQueue(12)\n",
    "customQueue.DeQueue()\n",
    "print(customQueue)"
   ]
  }
 ],
 "metadata": {
  "interpreter": {
   "hash": "b3ba2566441a7c06988d0923437866b63cedc61552a5af99d1f4fb67d367b25f"
  },
  "kernelspec": {
   "display_name": "Python 3.9.7 ('base')",
   "language": "python",
   "name": "python3"
  },
  "language_info": {
   "codemirror_mode": {
    "name": "ipython",
    "version": 3
   },
   "file_extension": ".py",
   "mimetype": "text/x-python",
   "name": "python",
   "nbconvert_exporter": "python",
   "pygments_lexer": "ipython3",
   "version": "3.9.7"
  },
  "orig_nbformat": 4
 },
 "nbformat": 4,
 "nbformat_minor": 2
}
