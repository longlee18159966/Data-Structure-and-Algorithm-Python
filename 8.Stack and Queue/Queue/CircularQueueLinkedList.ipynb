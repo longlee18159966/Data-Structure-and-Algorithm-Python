{
 "cells": [
  {
   "cell_type": "code",
   "execution_count": 48,
   "metadata": {},
   "outputs": [],
   "source": [
    "class Node:\n",
    "    def __init__(self, value):\n",
    "        self.value = value\n",
    "        self.next = None\n",
    "\n",
    "    def __str__(self):\n",
    "        return str(self.value)\n",
    "\n",
    "class SinglyLinkedList:\n",
    "    def __init__(self):\n",
    "        self.head = None\n",
    "        self.tail = None\n",
    "\n",
    "    def __iter__(self):\n",
    "        curNode = self.head\n",
    "        while curNode:\n",
    "            yield curNode\n",
    "            curNode = curNode.next\n",
    "\n",
    "class Queue:\n",
    "    def __init__(self):\n",
    "        self.store = SinglyLinkedList()\n",
    "\n",
    "    def __str__(self):\n",
    "        values = [str(x.value) for x in self.store]\n",
    "        return \" \".join(values)\n",
    "\n",
    "    def IsEmpty(self):\n",
    "        if self.store.head == None:\n",
    "            return True\n",
    "        else:\n",
    "            return False\n",
    "\n",
    "    def EnQueue(self, value):\n",
    "        newNode = Node(value)\n",
    "        if self.store.head == None:\n",
    "            self.store.head = newNode\n",
    "            self.store.tail = newNode\n",
    "        else:\n",
    "            self.store.tail.next = newNode\n",
    "            self.store.tail = newNode\n",
    "\n",
    "    def DeQueue(self):\n",
    "        if self.IsEmpty():\n",
    "            return \"The Queue is empty.\"\n",
    "        else:\n",
    "            tempNode = self.store.head\n",
    "            if self.store.head == self.store.tail:\n",
    "                self.store.head = None\n",
    "                self.store.tail = None\n",
    "            else:\n",
    "                self.store.head = self.store.head.next\n",
    "            return tempNode\n",
    "\n",
    "    def Peak(self):\n",
    "        if self.IsEmpty():\n",
    "            return \"The Queue is empty.\"\n",
    "        else:\n",
    "            return self.store.head.value\n",
    "\n",
    "    def Delete(self):\n",
    "        self.store.head = None\n",
    "        self.store.tail = None"
   ]
  },
  {
   "cell_type": "code",
   "execution_count": 49,
   "metadata": {},
   "outputs": [
    {
     "data": {
      "text/plain": [
       "True"
      ]
     },
     "execution_count": 49,
     "metadata": {},
     "output_type": "execute_result"
    }
   ],
   "source": [
    "customQueue = Queue()\n",
    "customQueue.IsEmpty()"
   ]
  },
  {
   "cell_type": "code",
   "execution_count": 50,
   "metadata": {},
   "outputs": [
    {
     "name": "stdout",
     "output_type": "stream",
     "text": [
      "23\n"
     ]
    }
   ],
   "source": [
    "customQueue.EnQueue(23)\n",
    "print(customQueue)"
   ]
  },
  {
   "cell_type": "code",
   "execution_count": 51,
   "metadata": {},
   "outputs": [
    {
     "name": "stdout",
     "output_type": "stream",
     "text": [
      "23 234324 1 2 3 4 5\n"
     ]
    }
   ],
   "source": [
    "customQueue.EnQueue(234324)\n",
    "customQueue.EnQueue(1)\n",
    "customQueue.EnQueue(2)\n",
    "customQueue.EnQueue(3)\n",
    "customQueue.EnQueue(4)\n",
    "customQueue.EnQueue(5)\n",
    "\n",
    "print(customQueue)"
   ]
  },
  {
   "cell_type": "code",
   "execution_count": 52,
   "metadata": {},
   "outputs": [
    {
     "data": {
      "text/plain": [
       "3"
      ]
     },
     "execution_count": 52,
     "metadata": {},
     "output_type": "execute_result"
    }
   ],
   "source": [
    "customQueue.DeQueue()\n",
    "customQueue.DeQueue()\n",
    "customQueue.DeQueue()\n",
    "customQueue.DeQueue()\n",
    "\n",
    "customQueue.Peak()"
   ]
  }
 ],
 "metadata": {
  "interpreter": {
   "hash": "b3ba2566441a7c06988d0923437866b63cedc61552a5af99d1f4fb67d367b25f"
  },
  "kernelspec": {
   "display_name": "Python 3.9.7 ('base')",
   "language": "python",
   "name": "python3"
  },
  "language_info": {
   "codemirror_mode": {
    "name": "ipython",
    "version": 3
   },
   "file_extension": ".py",
   "mimetype": "text/x-python",
   "name": "python",
   "nbconvert_exporter": "python",
   "pygments_lexer": "ipython3",
   "version": "3.9.7"
  },
  "orig_nbformat": 4
 },
 "nbformat": 4,
 "nbformat_minor": 2
}
