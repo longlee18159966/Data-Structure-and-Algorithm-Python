{
 "cells": [
  {
   "cell_type": "markdown",
   "metadata": {},
   "source": [
    "### Create Stack using List without size limit"
   ]
  },
  {
   "cell_type": "markdown",
   "metadata": {},
   "source": [
    "#### Stack using List\n",
    "##### - Easy to implement\n",
    "##### - Speed problem when it grows\n",
    "#### Stack using Linked List\n",
    "##### - Fast Performance\n",
    "##### - Implementation is not easy"
   ]
  },
  {
   "cell_type": "code",
   "execution_count": 24,
   "metadata": {},
   "outputs": [],
   "source": [
    "class Stack:\n",
    "    def __init__(self):\n",
    "        # Time: O(1)\n",
    "        # Space: O(1)\n",
    "        self.list = []\n",
    "\n",
    "    def __str__(self):\n",
    "        values = self.list.copy()\n",
    "        values.reverse()\n",
    "        a = [str(x) for x in values]\n",
    "        return \"\\n\".join(a)\n",
    "\n",
    "    def isEmpty(self):\n",
    "        # Time: O(1)\n",
    "        # Space: O(1)\n",
    "        if self.list == []:\n",
    "            return True\n",
    "        return False\n",
    "\n",
    "    def Push(self, value):\n",
    "        # Time: O(n^2)\n",
    "        # Space: O(1)\n",
    "        self.list.append(value)\n",
    "        return \"The element has been sucessfully inserted\"\n",
    "\n",
    "    def Pop(self):\n",
    "        # Time: O(n^2)\n",
    "        # Space: O(1)\n",
    "        if self.isEmpty():\n",
    "            return \"Stack is empty.\"\n",
    "        return self.list.pop()\n",
    "\n",
    "    def Peak(self):\n",
    "        if self.isEmpty():\n",
    "            return \"Stack is empty.\"\n",
    "        return self.list[-1]\n",
    "\n",
    "    def Delete(self):\n",
    "        if self.isEmpty():\n",
    "            return \"Stack is empty.\"\n",
    "        self.list = None\n",
    "        return \"Stack has been delete\""
   ]
  },
  {
   "cell_type": "code",
   "execution_count": 25,
   "metadata": {},
   "outputs": [
    {
     "name": "stdout",
     "output_type": "stream",
     "text": [
      "34\n",
      "12\n",
      "45\n",
      "23\n",
      "12\n",
      "45\n",
      "23\n"
     ]
    },
    {
     "data": {
      "text/plain": [
       "12"
      ]
     },
     "execution_count": 25,
     "metadata": {},
     "output_type": "execute_result"
    }
   ],
   "source": [
    "customstack = Stack()\n",
    "customstack.isEmpty()\n",
    "customstack.Push(23)\n",
    "customstack.Push(45)\n",
    "customstack.Push(12)\n",
    "customstack.Push(34)\n",
    "print(customstack)\n",
    "customstack.Pop()\n",
    "print(customstack)\n",
    "customstack.Peak()"
   ]
  },
  {
   "cell_type": "code",
   "execution_count": null,
   "metadata": {},
   "outputs": [],
   "source": []
  }
 ],
 "metadata": {
  "interpreter": {
   "hash": "b3ba2566441a7c06988d0923437866b63cedc61552a5af99d1f4fb67d367b25f"
  },
  "kernelspec": {
   "display_name": "Python 3.9.7 ('base')",
   "language": "python",
   "name": "python3"
  },
  "language_info": {
   "codemirror_mode": {
    "name": "ipython",
    "version": 3
   },
   "file_extension": ".py",
   "mimetype": "text/x-python",
   "name": "python",
   "nbconvert_exporter": "python",
   "pygments_lexer": "ipython3",
   "version": "3.9.7"
  },
  "orig_nbformat": 4
 },
 "nbformat": 4,
 "nbformat_minor": 2
}
