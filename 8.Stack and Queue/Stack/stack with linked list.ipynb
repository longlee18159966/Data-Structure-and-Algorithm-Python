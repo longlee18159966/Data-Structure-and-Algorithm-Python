{
 "cells": [
  {
   "cell_type": "code",
   "execution_count": 18,
   "metadata": {},
   "outputs": [],
   "source": [
    "class Node:\n",
    "    def __init__(self, value):\n",
    "        self.value = value\n",
    "        self.next = None\n",
    "\n",
    "class LinkedList:\n",
    "    def __init__(self):\n",
    "        self.head = None\n",
    "        self.tail = None\n",
    "\n",
    "    def __iter__(self):\n",
    "        if self.head == None:\n",
    "            return \"Linked List is empty.\"\n",
    "        curNode = self.head\n",
    "        while curNode != None:\n",
    "            yield curNode\n",
    "            curNode = curNode.next\n",
    "    \n",
    "    def Create(self, value):\n",
    "        newnode = Node(value)\n",
    "        self.head = newnode\n",
    "        self.tail = newnode\n",
    "\n",
    "    def InsertFirst(self, value):\n",
    "        if self.head == None:\n",
    "            self.Create(value)\n",
    "        else:\n",
    "            newnode = Node(value)\n",
    "            newnode.next = self.head\n",
    "            self.head = newnode\n",
    "        return \"Complete\"\n",
    "\n",
    "    def DeleteFirst(self):\n",
    "        if self.head == None:\n",
    "            return \"Empty.\"\n",
    "        self.head = self.head.next\n",
    "    \n",
    "    def DeleteEntire(self):\n",
    "        self.head = None\n",
    "        return \"Complete.\"\n",
    "    \n",
    "class Stack:\n",
    "    def __init__(self):\n",
    "        self.LinkedList = LinkedList()\n",
    "\n",
    "    def Create(self, value):\n",
    "        self.LinkedList.Create(value)\n",
    "\n",
    "    def Push(self, value):\n",
    "        self.LinkedList.InsertFirst(value)\n",
    "\n",
    "    def Pop(self):\n",
    "        return self.LinkedList.DeleteFirst()\n",
    "\n",
    "    def Peak(self):\n",
    "        if self.LinkedList.head == None:\n",
    "            return \"Linked List is empty\"\n",
    "        return self.LinkedList.head.value\n",
    "\n",
    "    def Delete(self):\n",
    "        return self.LinkedList.DeleteEntire()\n",
    "\n",
    "    def isEmpty(self):\n",
    "        if self.LinkedList.head == None:\n",
    "            return True\n",
    "        return False\n",
    "\n",
    "    def __str__(self):\n",
    "        values = [str(x.value) for x in self.LinkedList]\n",
    "        return \"\\n\".join(values)\n"
   ]
  },
  {
   "cell_type": "code",
   "execution_count": 19,
   "metadata": {},
   "outputs": [
    {
     "name": "stdout",
     "output_type": "stream",
     "text": [
      "123\n",
      "45\n",
      "23\n",
      "12\n",
      "45\n",
      "23\n",
      "12\n"
     ]
    },
    {
     "data": {
      "text/plain": [
       "45"
      ]
     },
     "execution_count": 19,
     "metadata": {},
     "output_type": "execute_result"
    }
   ],
   "source": [
    "customStack = Stack()\n",
    "customStack.Create(12)\n",
    "customStack.Push(23)\n",
    "customStack.Push(45)\n",
    "customStack.Push(123)\n",
    "print(customStack)\n",
    "customStack.Pop()\n",
    "print(customStack)\n",
    "customStack.Peak()"
   ]
  },
  {
   "cell_type": "code",
   "execution_count": null,
   "metadata": {},
   "outputs": [],
   "source": []
  }
 ],
 "metadata": {
  "interpreter": {
   "hash": "b3ba2566441a7c06988d0923437866b63cedc61552a5af99d1f4fb67d367b25f"
  },
  "kernelspec": {
   "display_name": "Python 3.9.7 ('base')",
   "language": "python",
   "name": "python3"
  },
  "language_info": {
   "codemirror_mode": {
    "name": "ipython",
    "version": 3
   },
   "file_extension": ".py",
   "mimetype": "text/x-python",
   "name": "python",
   "nbconvert_exporter": "python",
   "pygments_lexer": "ipython3",
   "version": "3.9.7"
  },
  "orig_nbformat": 4
 },
 "nbformat": 4,
 "nbformat_minor": 2
}
