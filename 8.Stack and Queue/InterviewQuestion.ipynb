{
 "cells": [
  {
   "cell_type": "markdown",
   "metadata": {},
   "source": [
    "### Question 1: Three in One"
   ]
  },
  {
   "cell_type": "code",
   "execution_count": 1,
   "metadata": {},
   "outputs": [
    {
     "name": "stdout",
     "output_type": "stream",
     "text": [
      "False\n",
      "True\n",
      "2\n"
     ]
    }
   ],
   "source": [
    "class MultiStack:\n",
    "    def __init__(self, stacksize):\n",
    "        self.numberstacks = 3\n",
    "        self.custList = [0] * (stacksize * self.numberstacks)\n",
    "        self.sizes = [0] * self.numberstacks\n",
    "        self.stacksize = stacksize\n",
    "    \n",
    "    def isFull(self, stacknum):\n",
    "        if self.sizes[stacknum] == self.stacksize:\n",
    "            return True\n",
    "        else:\n",
    "            return False\n",
    "    \n",
    "    def isEmpty(self, stacknum):\n",
    "        if self.sizes[stacknum] == 0:\n",
    "            return True\n",
    "        else:\n",
    "            return False\n",
    "    \n",
    "    def indexOfTop(self, stacknum):\n",
    "        offset = stacknum * self.stacksize\n",
    "        return offset + self.sizes[stacknum]- 1\n",
    "    \n",
    "    def push(self, item, stacknum):\n",
    "        if self.isFull(stacknum):\n",
    "            return \"The stack is full\"\n",
    "        else:\n",
    "            self.sizes[stacknum] += 1\n",
    "            self.custList[self.indexOfTop(stacknum)] = item\n",
    "    \n",
    "    def pop(self, stacknum):\n",
    "        if self.isEmpty(stacknum):\n",
    "            return \"The stack is empty\"\n",
    "        else:\n",
    "            value = self.custList[self.indexOfTop(stacknum)]\n",
    "            self.custList[self.indexOfTop(stacknum)] = 0\n",
    "            self.sizes[stacknum] -= 1\n",
    "            return value\n",
    "    \n",
    "    def peek(self, stacknum):\n",
    "        if self.isEmpty(stacknum):\n",
    "            return \"The stack is empty\"\n",
    "        else:\n",
    "            value = self.custList[self.indexOfTop(stacknum)]\n",
    "            return value\n",
    "\n",
    "\n",
    "customStack = MultiStack(6)\n",
    "print(customStack.isFull(0))\n",
    "print(customStack.isEmpty(1))\n",
    "customStack.push(1, 0)\n",
    "customStack.push(2, 0)\n",
    "customStack.push(3, 2)\n",
    "print(customStack.pop(0))\n",
    "        \n"
   ]
  },
  {
   "cell_type": "markdown",
   "metadata": {},
   "source": [
    "### Question 2: Stack Minimum"
   ]
  },
  {
   "cell_type": "code",
   "execution_count": 2,
   "metadata": {},
   "outputs": [
    {
     "data": {
      "text/plain": [
       "1"
      ]
     },
     "execution_count": 2,
     "metadata": {},
     "output_type": "execute_result"
    }
   ],
   "source": [
    "# How would you design a stack which, in addition to push and pop, has a function min\n",
    "# which returns the minimum element> Push, pop and min should all operate in O(1)\n",
    "\n",
    "class Node:\n",
    "    def __init__(self, value=None, next=None):\n",
    "        self.value = value\n",
    "        self.next = next\n",
    "\n",
    "    def __str__(self):\n",
    "        string = str(self.value)\n",
    "        if self.next:\n",
    "            string += \",\" + str(self.next)\n",
    "        return string\n",
    "\n",
    "class Stack:\n",
    "    def __init__(self):\n",
    "        self.top = None\n",
    "        self.minNode = None\n",
    "\n",
    "    def min(self):\n",
    "        if not self.minNode:\n",
    "            return None\n",
    "        return self.minNode.value\n",
    "\n",
    "    def Push(self, item):\n",
    "        if self.minNode and self.minNode.value < item:\n",
    "            self.minNode = Node(value=self.minNode.value, next=self.minNode)\n",
    "        else:\n",
    "            self.minNode = Node(value=item, next=self.minNode)\n",
    "        self.top = Node(value = item, next = self.top)\n",
    "\n",
    "    def Pop(self):\n",
    "        if not self.top:\n",
    "            return None\n",
    "        self.minNode = self.minNode.next\n",
    "        item = self.top.value\n",
    "        self.top = self.top.next\n",
    "        return item\n",
    "\n",
    "customStack = Stack()\n",
    "customStack.Push(23)\n",
    "customStack.Push(1)\n",
    "customStack.Push(-3)\n",
    "customStack.Push(2)\n",
    "\n",
    "customStack.Pop()\n",
    "customStack.Pop()\n",
    "customStack.min()"
   ]
  },
  {
   "cell_type": "markdown",
   "metadata": {},
   "source": [
    "### Question 3: Stack of PLates"
   ]
  },
  {
   "cell_type": "code",
   "execution_count": 3,
   "metadata": {},
   "outputs": [],
   "source": [
    "class SetOfStacks():\n",
    "    def __init__(self, capacity):\n",
    "        self.capacity = capacity\n",
    "        self.stacks = []\n",
    "\n",
    "    def __str__str(self):\n",
    "        return self.stacks\n",
    "    \n",
    "    def push(self, item):\n",
    "        if len(self.stacks) > 0 and (len(self.stacks[-1])) < self.capacity:\n",
    "            self.stacks[-1].append(item)\n",
    "        else:\n",
    "            self.stacks.append(item)\n",
    "\n",
    "    def pop(self):\n",
    "        while len(self.stacks) and len(self.stacks[-1]) == 0:\n",
    "            self.stackspop()\n",
    "        if len(self.stacks) == 0:\n",
    "            return None\n",
    "        else:\n",
    "            return self.stack[-1].pop()\n",
    "\n",
    "    def pop_at(self, stackNumber):\n",
    "        if len(self.stacks[stackNumber]) > 0:\n",
    "            return self.stacks[stackNumber].pop()\n",
    "        else:\n",
    "            return None"
   ]
  },
  {
   "cell_type": "markdown",
   "metadata": {},
   "source": [
    "### Question 4: Queue via Stacks"
   ]
  },
  {
   "cell_type": "code",
   "execution_count": 4,
   "metadata": {},
   "outputs": [],
   "source": [
    "# Implement Queue class which implements a queue using two stacks\n",
    "class Stack():\n",
    "    def __init__(self):\n",
    "        self.list = []\n",
    "\n",
    "    def __len__(self):\n",
    "        return len(self.list)\n",
    "\n",
    "    def push(self, item):\n",
    "        self.list.append(item)\n",
    "\n",
    "    def pop(self):\n",
    "        if len(self.list) == 0:\n",
    "            return None\n",
    "        return self.list.pop()\n",
    "    \n",
    "class Queue():\n",
    "    def __init__(self):\n",
    "        self.inStack = Stack()\n",
    "        self.outStack = Stack()\n",
    "\n",
    "    def EnQueue(self, item):\n",
    "        self.inStack.push(item)\n",
    "    \n",
    "    def DeQueue(self):\n",
    "        while len(self.inStack):\n",
    "            self.outStack.push(self.inStack.pop())\n",
    "        result = self.outStack.pop()\n",
    "        while len(self.outStack):\n",
    "            self.inStack.push(self.outStack.pop())\n",
    "        return result\n"
   ]
  },
  {
   "cell_type": "markdown",
   "metadata": {},
   "source": [
    "### Question 5: Animal Shelter"
   ]
  },
  {
   "cell_type": "code",
   "execution_count": null,
   "metadata": {},
   "outputs": [],
   "source": [
    "class AnimalShelter():\n",
    "    def __init__(self):\n",
    "        self.cats = []\n",
    "        self.dogs = []\n",
    "\n",
    "    def EnQueue(self, animal, type):\n",
    "        if type == \"Cat\":\n",
    "            self.cats.append(animal)\n",
    "        elif type == \"Dog\":\n",
    "            self.dogs.append(animal)\n",
    "        else:\n",
    "            return \"Type must be Cat or Dog.\"\n",
    "    \n",
    "    def DeQueueCat(self):\n",
    "        if len(self.cats) == 0:\n",
    "            return None\n",
    "        else:\n",
    "            cat = self.cats.pop(0)\n",
    "            return cat\n",
    "\n",
    "    def DeQueueDog(self): \n",
    "        if len(self.dogs) == 0:\n",
    "            return None\n",
    "        else:\n",
    "            dog = self.dogs.pop(0)\n",
    "            return dog\n",
    "\n",
    "    def DeQueue(self):\n",
    "        if len(self.cats) == 0:\n",
    "            result = self.dogs.pop(0)\n",
    "        else:\n",
    "            result = self.cats.pop(0)\n",
    "        return result       "
   ]
  }
 ],
 "metadata": {
  "interpreter": {
   "hash": "b3ba2566441a7c06988d0923437866b63cedc61552a5af99d1f4fb67d367b25f"
  },
  "kernelspec": {
   "display_name": "Python 3.9.7 ('base')",
   "language": "python",
   "name": "python3"
  },
  "language_info": {
   "codemirror_mode": {
    "name": "ipython",
    "version": 3
   },
   "file_extension": ".py",
   "mimetype": "text/x-python",
   "name": "python",
   "nbconvert_exporter": "python",
   "pygments_lexer": "ipython3",
   "version": "3.9.7"
  },
  "orig_nbformat": 4
 },
 "nbformat": 4,
 "nbformat_minor": 2
}
