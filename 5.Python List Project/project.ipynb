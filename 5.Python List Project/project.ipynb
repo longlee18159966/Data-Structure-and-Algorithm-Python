{
 "cells": [
  {
   "cell_type": "code",
   "execution_count": 2,
   "metadata": {},
   "outputs": [
    {
     "name": "stdout",
     "output_type": "stream",
     "text": [
      "\n",
      "Average = 48\n",
      "\n",
      "2 day(s) above average\n"
     ]
    }
   ],
   "source": [
    "# Calculate Average Temperature\n",
    "numDays = int(input(\"How many day's temperature?\"))\n",
    "total = 0\n",
    "temperatures = []\n",
    "for i in range(1, numDays + 1):\n",
    "    temperatures.append(int(input(\"Day {}'s high temp: \".format(i))))\n",
    "    total += temperatures[i-1]\n",
    "avg = round(total/numDays)\n",
    "print(\"\\nAverage = {}\".format(avg))\n",
    "above_avg = 0\n",
    "for i in temperatures:\n",
    "    if i > avg:\n",
    "        above_avg += 1\n",
    "print(\"\\n{} day(s) above average\".format(above_avg))\n"
   ]
  }
 ],
 "metadata": {
  "interpreter": {
   "hash": "b3ba2566441a7c06988d0923437866b63cedc61552a5af99d1f4fb67d367b25f"
  },
  "kernelspec": {
   "display_name": "Python 3.9.7 ('base')",
   "language": "python",
   "name": "python3"
  },
  "language_info": {
   "codemirror_mode": {
    "name": "ipython",
    "version": 3
   },
   "file_extension": ".py",
   "mimetype": "text/x-python",
   "name": "python",
   "nbconvert_exporter": "python",
   "pygments_lexer": "ipython3",
   "version": "3.9.7"
  },
  "orig_nbformat": 4
 },
 "nbformat": 4,
 "nbformat_minor": 2
}
