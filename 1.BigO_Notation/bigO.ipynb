{
 "cells": [
  {
   "cell_type": "code",
   "execution_count": 4,
   "metadata": {},
   "outputs": [
    {
     "data": {
      "text/plain": [
       "78"
      ]
     },
     "execution_count": 4,
     "metadata": {},
     "output_type": "execute_result"
    }
   ],
   "source": [
    "def findMaxNumRec(sampleArray, n):\n",
    "    if n == 1:\n",
    "        return sampleArray[0]\n",
    "    return max(sampleArray[n-1], findMaxNumRec(sampleArray, n-1))\n",
    "\n",
    "array = [1, 4, 5, 2, 78, 45, 67, 45, 34, 67, 2]\n",
    "findMaxNumRec(array, len(array))"
   ]
  },
  {
   "cell_type": "code",
   "execution_count": 5,
   "metadata": {},
   "outputs": [
    {
     "data": {
      "text/plain": [
       "4"
      ]
     },
     "execution_count": 5,
     "metadata": {},
     "output_type": "execute_result"
    }
   ],
   "source": [
    "def f(n):\n",
    "    if n <= 1:\n",
    "        return 1\n",
    "    return f(n-1) + f(n-1)\n",
    "f(3)"
   ]
  },
  {
   "cell_type": "markdown",
   "metadata": {},
   "source": [
    "# Interview Questions"
   ]
  },
  {
   "cell_type": "markdown",
   "metadata": {},
   "source": [
    "### Question 1: Product and Sum"
   ]
  },
  {
   "cell_type": "code",
   "execution_count": 6,
   "metadata": {},
   "outputs": [],
   "source": [
    "def foo(array):\n",
    "    sum = 0\n",
    "    product = 0\n",
    "    for i in array:\n",
    "        sum += i\n",
    "    for i in array:\n",
    "        product *= i\n",
    "    print(\"Sum = {}, Product = {}\".format(sum, product))\n",
    "\n",
    "# Answer: BigO = O(1) + O(1) + O(n) + O(n) + O(1) = O(2n) + O(3) = O(n)"
   ]
  },
  {
   "cell_type": "markdown",
   "metadata": {},
   "source": [
    "### Question 2: Print Pairs"
   ]
  },
  {
   "cell_type": "code",
   "execution_count": 7,
   "metadata": {},
   "outputs": [],
   "source": [
    "def printPairs(array):\n",
    "    for i in array:\n",
    "        for j in array:\n",
    "            print(\"{}, {}\".format(i, j))\n",
    "\n",
    "# Answer: BigO = O(n)*O(n)*O(1) = O(n^2): BigO is N squared"
   ]
  },
  {
   "cell_type": "markdown",
   "metadata": {},
   "source": [
    "### Question 3: Print Unordered"
   ]
  },
  {
   "cell_type": "code",
   "execution_count": 8,
   "metadata": {},
   "outputs": [],
   "source": [
    "def printUnorderedPairs(array):\n",
    "    for i in range(0, len(array)):\n",
    "        for j in range(i + 1, len(array)):\n",
    "            print(\"{}, {}\".format(array(i), array(j)))\n",
    "\n",
    "# Answer: BigO = O(n(n-1)/2) = O(n^2): BigO is N squared"
   ]
  },
  {
   "cell_type": "markdown",
   "metadata": {},
   "source": [
    "### Question 4: Print Unordered Pairs 2 Arrays"
   ]
  },
  {
   "cell_type": "code",
   "execution_count": 9,
   "metadata": {},
   "outputs": [],
   "source": [
    "def printUnorderedPairs_2(arrayA, arrayB):\n",
    "    for i in range(len(arrayA)):\n",
    "        for j in range(len(arrayB)):\n",
    "            if arrayA[i] < arrayB[j]:\n",
    "                print(\"{}, {}\".format(arrayA[i], arrayB[j]))\n",
    "# Suppose\n",
    "# Answer: BigO = O(a) * O(b) * O(1) = O(ab): BigO is ab"
   ]
  },
  {
   "cell_type": "markdown",
   "metadata": {},
   "source": [
    "### Question 5: Print Unorderd Pairs 2 Arrays 100000 Units"
   ]
  },
  {
   "cell_type": "code",
   "execution_count": 10,
   "metadata": {},
   "outputs": [],
   "source": [
    "def printUnorderdPairs(arrayA, arrayB):\n",
    "    for i in range(len(arrayA)):\n",
    "        for j in range(len(arrayB)):\n",
    "            for k in range(0, 100000):\n",
    "                print(\"{}, {}\".format(arrayA[i], arrayB[j]))\n",
    "\n",
    "# Answer: BigO = O(a*b)"
   ]
  },
  {
   "cell_type": "markdown",
   "metadata": {},
   "source": [
    "### Question 6: Reverse"
   ]
  },
  {
   "cell_type": "code",
   "execution_count": 11,
   "metadata": {},
   "outputs": [],
   "source": [
    "def reverse(array):\n",
    "    for i in range(0, int(len(array)/2)):\n",
    "        other = len(array) - i - 1\n",
    "        temp = array[i]\n",
    "        array[i] = array[other]\n",
    "        array[other] = temp\n",
    "    print(array)\n",
    "\n",
    "# Answer: O(n/2) * O(4) = O(n)"
   ]
  },
  {
   "cell_type": "markdown",
   "metadata": {},
   "source": [
    "### Question 7: Equivalents\n",
    "###### Which of the following are equivalent to O(N)? Why?\n",
    "###### 1. O(N+P), where P < N/2         True\n",
    "###### 2. O(2N)                         True\n",
    "###### 3. O(N + logN)                   True\n",
    "###### 4. O(N + NlogN)                  False\n",
    "###### 5. O(N+M)                        False"
   ]
  },
  {
   "cell_type": "markdown",
   "metadata": {},
   "source": [
    "### Question 8: Factorial Complexity"
   ]
  },
  {
   "cell_type": "code",
   "execution_count": 12,
   "metadata": {},
   "outputs": [],
   "source": [
    "def factorial(n):\n",
    "    if n < 0:\n",
    "        return -1\n",
    "    elif n == 0:\n",
    "        return 1\n",
    "    else:\n",
    "        return n * factorial(n-1)\n",
    "\n",
    "# Answer: BigO = O(n)"
   ]
  },
  {
   "cell_type": "markdown",
   "metadata": {},
   "source": [
    "### Question 9: Fibonacci Complexity"
   ]
  },
  {
   "cell_type": "code",
   "execution_count": 13,
   "metadata": {},
   "outputs": [],
   "source": [
    "def allFib(n):\n",
    "    for i in range(n):\n",
    "        print(\"{}, {}\".format(i, fib(i)))\n",
    "\n",
    "def fib(n):\n",
    "    if n <= 0:\n",
    "        return 0\n",
    "    elif n == 1:\n",
    "        return 1\n",
    "    else:\n",
    "        return fib(n-1) + fib(n-2)\n",
    "\n",
    "# Answer: BigO = O(n)"
   ]
  },
  {
   "cell_type": "markdown",
   "metadata": {},
   "source": [
    "### Question 10: Powers of 2"
   ]
  },
  {
   "cell_type": "code",
   "execution_count": 14,
   "metadata": {},
   "outputs": [],
   "source": [
    "def powersOf2(n):\n",
    "    if n < 1:\n",
    "        return 0\n",
    "    elif n == 1:\n",
    "        print(1)\n",
    "        return 1\n",
    "    else:\n",
    "        prev = powersOf2(int(n/2))\n",
    "        curr = prev*2\n",
    "        print(curr)\n",
    "        return curr\n",
    "\n",
    "# Answer: BigO = O(log(n))"
   ]
  },
  {
   "cell_type": "code",
   "execution_count": 9,
   "metadata": {},
   "outputs": [
    {
     "data": {
      "text/plain": [
       "'flo'"
      ]
     },
     "execution_count": 9,
     "metadata": {},
     "output_type": "execute_result"
    }
   ],
   "source": [
    "strs = [\"flower\",\"flow\",\"flight\"]\n",
    "strs[0][0:3]"
   ]
  },
  {
   "cell_type": "code",
   "execution_count": null,
   "metadata": {},
   "outputs": [],
   "source": []
  }
 ],
 "metadata": {
  "interpreter": {
   "hash": "b3ba2566441a7c06988d0923437866b63cedc61552a5af99d1f4fb67d367b25f"
  },
  "kernelspec": {
   "display_name": "Python 3.9.7 ('base')",
   "language": "python",
   "name": "python3"
  },
  "language_info": {
   "codemirror_mode": {
    "name": "ipython",
    "version": 3
   },
   "file_extension": ".py",
   "mimetype": "text/x-python",
   "name": "python",
   "nbconvert_exporter": "python",
   "pygments_lexer": "ipython3",
   "version": "3.9.7"
  },
  "orig_nbformat": 4
 },
 "nbformat": 4,
 "nbformat_minor": 2
}
