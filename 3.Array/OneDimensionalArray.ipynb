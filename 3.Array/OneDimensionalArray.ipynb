{
 "cells": [
  {
   "cell_type": "markdown",
   "metadata": {},
   "source": [
    "## Creating Array"
   ]
  },
  {
   "cell_type": "code",
   "execution_count": 49,
   "metadata": {},
   "outputs": [
    {
     "data": {
      "text/plain": [
       "array('d', [1.4, 2.5, 6.7])"
      ]
     },
     "execution_count": 49,
     "metadata": {},
     "output_type": "execute_result"
    }
   ],
   "source": [
    "# Creating an array\n",
    "import array\n",
    "arr_1 = array.array('i', [1,2,3,4,5,6])\n",
    "type(arr_1)\n",
    "arr_2 = array.array('d', [1.4, 2.5, 6.7])\n",
    "arr_2"
   ]
  },
  {
   "cell_type": "markdown",
   "metadata": {},
   "source": [
    "## Insertion Operation"
   ]
  },
  {
   "cell_type": "code",
   "execution_count": 50,
   "metadata": {},
   "outputs": [
    {
     "name": "stdout",
     "output_type": "stream",
     "text": [
      "1.4\n",
      "2.5\n",
      "6.7\n"
     ]
    }
   ],
   "source": [
    "# Insertion Operation\n",
    "for i in arr_2:\n",
    "    print(i)"
   ]
  },
  {
   "cell_type": "code",
   "execution_count": 51,
   "metadata": {},
   "outputs": [
    {
     "data": {
      "text/plain": [
       "array('i', [1, 2, 3, 4, 5, 12, 6])"
      ]
     },
     "execution_count": 51,
     "metadata": {},
     "output_type": "execute_result"
    }
   ],
   "source": [
    "# Insert element in 5th position\n",
    "arr_1.insert(5, 12)\n",
    "arr_1"
   ]
  },
  {
   "cell_type": "code",
   "execution_count": 52,
   "metadata": {},
   "outputs": [
    {
     "data": {
      "text/plain": [
       "array('i', [0, 1, 2, 3, 4, 5, 12, 6])"
      ]
     },
     "execution_count": 52,
     "metadata": {},
     "output_type": "execute_result"
    }
   ],
   "source": [
    "# Insert element at beginning of array\n",
    "arr_1.insert(0, 0)\n",
    "arr_1"
   ]
  },
  {
   "cell_type": "code",
   "execution_count": 53,
   "metadata": {},
   "outputs": [
    {
     "data": {
      "text/plain": [
       "array('i', [0, 1, 2, 3, 4, 5, 12, 6, 123])"
      ]
     },
     "execution_count": 53,
     "metadata": {},
     "output_type": "execute_result"
    }
   ],
   "source": [
    "# Insert at the end of array\n",
    "arr_1.insert(len(arr_1), 123)\n",
    "arr_1"
   ]
  },
  {
   "cell_type": "markdown",
   "metadata": {},
   "source": [
    "## Traversal Operation"
   ]
  },
  {
   "cell_type": "code",
   "execution_count": 54,
   "metadata": {},
   "outputs": [
    {
     "name": "stdout",
     "output_type": "stream",
     "text": [
      "0   1   2   3   4   5   12   6   123   "
     ]
    }
   ],
   "source": [
    "def TraversalOperation(arr):               \n",
    "    # Time Complexity: O(n)\n",
    "    # Space Complexity: O(1)\n",
    "    for i in range(len(arr)):\n",
    "        print(arr[i], end='   ')\n",
    "TraversalOperation(arr_1)"
   ]
  },
  {
   "cell_type": "markdown",
   "metadata": {},
   "source": [
    "## Accessing an element of Array"
   ]
  },
  {
   "cell_type": "code",
   "execution_count": 55,
   "metadata": {},
   "outputs": [
    {
     "name": "stdout",
     "output_type": "stream",
     "text": [
      "There is not any element in this index\n"
     ]
    }
   ],
   "source": [
    "def accessElement(arr, index):                              \n",
    "    # Time complexity: O(1)\n",
    "    # Space complexity: O(1)\n",
    "    if index >= len(arr):\n",
    "        print(\"There is not any element in this index\")\n",
    "    else:\n",
    "        print(arr[index])\n",
    "accessElement(arr_1, 100)"
   ]
  },
  {
   "cell_type": "markdown",
   "metadata": {},
   "source": [
    "## Finding an Element"
   ]
  },
  {
   "cell_type": "code",
   "execution_count": 56,
   "metadata": {},
   "outputs": [
    {
     "data": {
      "text/plain": [
       "'The element does not exist in this array'"
      ]
     },
     "execution_count": 56,
     "metadata": {},
     "output_type": "execute_result"
    }
   ],
   "source": [
    "def findingElement(arr, value):\n",
    "    # Time complexity: O(n)\n",
    "    # Space complexity: O(1)\n",
    "    for i in range(0, len(arr)):\n",
    "        if arr[i] == value:\n",
    "            return \"Element at index {}\".format(i)\n",
    "    return \"The element does not exist in this array\"\n",
    "\n",
    "findingElement(arr_1, 100)"
   ]
  },
  {
   "cell_type": "markdown",
   "metadata": {},
   "source": [
    "## Deleting an element for Array"
   ]
  },
  {
   "cell_type": "code",
   "execution_count": 57,
   "metadata": {},
   "outputs": [
    {
     "name": "stdout",
     "output_type": "stream",
     "text": [
      "0   1   2   3   4   5   12   6   123   \n",
      "\n",
      "0   1   2   3   5   12   6   123   "
     ]
    }
   ],
   "source": [
    "def deletingElement(arr, index):\n",
    "    # Time complexity: O(n)\n",
    "    # Space complexity: O(1)\n",
    "    TraversalOperation(arr)\n",
    "    arr.remove(index)\n",
    "    print('\\n')\n",
    "    TraversalOperation(arr)\n",
    "\n",
    "deletingElement(arr_1, 4)"
   ]
  },
  {
   "cell_type": "code",
   "execution_count": 58,
   "metadata": {},
   "outputs": [
    {
     "data": {
      "image/png": "[encoded data removed]",
      "text/plain": [
       "<IPython.core.display.Image object>"
      ]
     },
     "execution_count": 58,
     "metadata": {},
     "output_type": "execute_result"
    }
   ],
   "source": [
    "from IPython.display import Image\n",
    "Image(filename=\"Capture.PNG\")\n",
    "\n",
    "# Note: Look at the picture, from top to down to get Formular (1*)"
   ]
  },
  {
   "cell_type": "markdown",
   "metadata": {},
   "source": [
    "## One Dimensional Array Practice"
   ]
  },
  {
   "cell_type": "code",
   "execution_count": 59,
   "metadata": {},
   "outputs": [
    {
     "name": "stdout",
     "output_type": "stream",
     "text": [
      "1  2  3  4  5  "
     ]
    }
   ],
   "source": [
    "import array\n",
    "# 1. Create an array and traverse\n",
    "my_array = array.array('i', [1, 2, 3, 4, 5])\n",
    "for i in my_array:\n",
    "    print(i, end='  ')"
   ]
  },
  {
   "cell_type": "code",
   "execution_count": 60,
   "metadata": {},
   "outputs": [
    {
     "name": "stdout",
     "output_type": "stream",
     "text": [
      "\n",
      "Value at index 1: 2\n"
     ]
    }
   ],
   "source": [
    "# 2. Access individual elements through indexes\n",
    "print(\"\\nValue at index 1: {}\".format(my_array[1]))"
   ]
  },
  {
   "cell_type": "code",
   "execution_count": 61,
   "metadata": {},
   "outputs": [
    {
     "name": "stdout",
     "output_type": "stream",
     "text": [
      "array('i', [1, 2, 3, 4, 5, 23])\n"
     ]
    }
   ],
   "source": [
    "# 3. Append any value to the array using append() method\n",
    "my_array.append(23)\n",
    "print(my_array)"
   ]
  },
  {
   "cell_type": "code",
   "execution_count": 62,
   "metadata": {},
   "outputs": [
    {
     "name": "stdout",
     "output_type": "stream",
     "text": [
      "array('i', [1, 2, 12, 3, 4, 5, 23])\n"
     ]
    }
   ],
   "source": [
    "# 4. Insert value in an array using insert() method\n",
    "my_array.insert(2, 12)\n",
    "print(my_array)\n"
   ]
  },
  {
   "cell_type": "code",
   "execution_count": 63,
   "metadata": {},
   "outputs": [
    {
     "name": "stdout",
     "output_type": "stream",
     "text": [
      "array('i', [1, 2, 12, 3, 4, 5, 23, 14, 15, 18])\n"
     ]
    }
   ],
   "source": [
    "# 5. Extend python array using extend() method\n",
    "arr_extend = array.array('i', [14, 15, 18])\n",
    "my_array.extend(arr_extend)\n",
    "print(my_array)"
   ]
  },
  {
   "cell_type": "code",
   "execution_count": 64,
   "metadata": {},
   "outputs": [
    {
     "name": "stdout",
     "output_type": "stream",
     "text": [
      "array('i', [1, 2, 12, 3, 4, 5, 23, 14, 15, 18, 123, 234, 345])\n"
     ]
    }
   ],
   "source": [
    "# 6. Add items from list into array using fromlist() method\n",
    "l = [123, 234, 345]\n",
    "my_array.fromlist(l)\n",
    "print(my_array)"
   ]
  },
  {
   "cell_type": "code",
   "execution_count": 65,
   "metadata": {},
   "outputs": [
    {
     "name": "stdout",
     "output_type": "stream",
     "text": [
      "array('i', [1, 2, 3, 4, 5, 23, 14, 15, 18, 123, 234, 345])\n"
     ]
    }
   ],
   "source": [
    "# 7. Remove any aray element using remove() method\n",
    "my_array.remove(12)\n",
    "print(my_array)"
   ]
  },
  {
   "cell_type": "code",
   "execution_count": 66,
   "metadata": {},
   "outputs": [
    {
     "name": "stdout",
     "output_type": "stream",
     "text": [
      "345\n",
      "array('i', [1, 2, 3, 4, 5, 23, 14, 15, 18, 123, 234])\n"
     ]
    }
   ],
   "source": [
    "# 8. Remove last array element using pop() method\n",
    "print(my_array.pop())\n",
    "print(my_array)"
   ]
  },
  {
   "cell_type": "code",
   "execution_count": 67,
   "metadata": {},
   "outputs": [
    {
     "name": "stdout",
     "output_type": "stream",
     "text": [
      "array('i', [1, 2, 3, 4, 5, 23, 14, 15, 18, 123, 234])\n"
     ]
    },
    {
     "data": {
      "text/plain": [
       "3"
      ]
     },
     "execution_count": 67,
     "metadata": {},
     "output_type": "execute_result"
    }
   ],
   "source": [
    "# 9. Fetch any element through its index using index() method\n",
    "print(my_array)\n",
    "my_array.index(4)"
   ]
  },
  {
   "cell_type": "code",
   "execution_count": 68,
   "metadata": {},
   "outputs": [
    {
     "name": "stdout",
     "output_type": "stream",
     "text": [
      "array('i', [1, 2, 3, 4, 5, 23, 14, 15, 18, 123, 234])\n",
      "array('i', [234, 123, 18, 15, 14, 23, 5, 4, 3, 2, 1])\n"
     ]
    }
   ],
   "source": [
    "# 10. Reverse a python array using reverse() method\n",
    "print(my_array)\n",
    "my_array.reverse()\n",
    "print(my_array)"
   ]
  },
  {
   "cell_type": "code",
   "execution_count": 69,
   "metadata": {},
   "outputs": [
    {
     "data": {
      "text/plain": [
       "(1839163999216, 11)"
      ]
     },
     "execution_count": 69,
     "metadata": {},
     "output_type": "execute_result"
    }
   ],
   "source": [
    "# 11. Get aaray buffer information through buffer_info() method\n",
    "my_array.buffer_info()\n",
    "# return tuple: first is start address, second is number of item"
   ]
  },
  {
   "cell_type": "code",
   "execution_count": 71,
   "metadata": {},
   "outputs": [
    {
     "data": {
      "text/plain": [
       "1"
      ]
     },
     "execution_count": 71,
     "metadata": {},
     "output_type": "execute_result"
    }
   ],
   "source": [
    "# 12. Check for number of occurrences of an element using count() method\n",
    "my_array.count(15)"
   ]
  },
  {
   "cell_type": "code",
   "execution_count": 73,
   "metadata": {},
   "outputs": [
    {
     "name": "stdout",
     "output_type": "stream",
     "text": [
      "b'\\xea\\x00\\x00\\x00{\\x00\\x00\\x00\\x12\\x00\\x00\\x00\\x0f\\x00\\x00\\x00\\x0e\\x00\\x00\\x00\\x17\\x00\\x00\\x00\\x05\\x00\\x00\\x00\\x04\\x00\\x00\\x00\\x03\\x00\\x00\\x00\\x02\\x00\\x00\\x00\\x01\\x00\\x00\\x00'\n"
     ]
    }
   ],
   "source": [
    "# 13. Convert array to string using tostring() method\n",
    "# In python 3.90 and later, tostring() and fromstring() \n",
    "str_temp = my_array.tobytes()\n",
    "print(str_temp)"
   ]
  },
  {
   "cell_type": "code",
   "execution_count": 74,
   "metadata": {},
   "outputs": [
    {
     "name": "stdout",
     "output_type": "stream",
     "text": [
      "[234, 123, 18, 15, 14, 23, 5, 4, 3, 2, 1]\n"
     ]
    }
   ],
   "source": [
    "# 14. Convert array to a python list with same elements using tolist() method\n",
    "l_temp = my_array.tolist()\n",
    "print(l_temp)"
   ]
  },
  {
   "cell_type": "code",
   "execution_count": 76,
   "metadata": {},
   "outputs": [
    {
     "data": {
      "text/plain": [
       "array('i', [234, 123, 18, 15, 14, 23, 5, 4, 3, 2, 1])"
      ]
     },
     "execution_count": 76,
     "metadata": {},
     "output_type": "execute_result"
    }
   ],
   "source": [
    "# 15. Append a string to char array using fromstring()\n",
    "ints = array.array(\"i\")\n",
    "ints.frombytes(str_temp)\n",
    "ints"
   ]
  },
  {
   "cell_type": "code",
   "execution_count": 79,
   "metadata": {},
   "outputs": [
    {
     "data": {
      "text/plain": [
       "array('i', [18, 14, 5])"
      ]
     },
     "execution_count": 79,
     "metadata": {},
     "output_type": "execute_result"
    }
   ],
   "source": [
    "# 16. Slice elements from an array\n",
    "ints[2:8:2]"
   ]
  },
  {
   "cell_type": "code",
   "execution_count": null,
   "metadata": {},
   "outputs": [],
   "source": []
  }
 ],
 "metadata": {
  "interpreter": {
   "hash": "b3ba2566441a7c06988d0923437866b63cedc61552a5af99d1f4fb67d367b25f"
  },
  "kernelspec": {
   "display_name": "Python 3.9.7 ('base')",
   "language": "python",
   "name": "python3"
  },
  "language_info": {
   "codemirror_mode": {
    "name": "ipython",
    "version": 3
   },
   "file_extension": ".py",
   "mimetype": "text/x-python",
   "name": "python",
   "nbconvert_exporter": "python",
   "pygments_lexer": "ipython3",
   "version": "3.9.7"
  },
  "orig_nbformat": 4
 },
 "nbformat": 4,
 "nbformat_minor": 2
}
