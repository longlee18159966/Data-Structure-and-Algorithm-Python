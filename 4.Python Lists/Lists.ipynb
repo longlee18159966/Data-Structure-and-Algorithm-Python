{
 "cells": [
  {
   "cell_type": "code",
   "execution_count": null,
   "metadata": {},
   "outputs": [],
   "source": [
    "#   Created by Elshad Karimov on 23/04/2020.\n",
    "#   Copyright © 2020 AppMillers. All rights reserved.\n",
    "\n",
    "# Q-1. What will be the output of the following code block?\n",
    "a=[1,2,3,4,5,6,7,8,9]\n",
    "print(a[::2])"
   ]
  },
  {
   "cell_type": "code",
   "execution_count": null,
   "metadata": {},
   "outputs": [],
   "source": [
    "a=[1,2,3,4,5,6,7,8,9]\n",
    "a[::2]=10,20,30,40,50,60\n",
    "print(a)\n",
    "# A. ValueError: attempt to assign sequence of size 6 to extended slice of size 5\n",
    "# B. [10, 2, 20, 4, 30, 6, 40, 8, 50, 60]\n",
    "# C. [1, 2, 10, 20, 30, 40, 50, 60]\n",
    "# D. [1, 10, 3, 20, 5, 30, 7, 40, 9, 50, 60]\n"
   ]
  },
  {
   "cell_type": "code",
   "execution_count": null,
   "metadata": {},
   "outputs": [],
   "source": [
    "# Q-3. What will be the output of the following code snippet?\n",
    "\n",
    "a=[1,2,3,4,5]\n",
    "print(a[3:0:-1])\n",
    "# A. Syntax error\n",
    "# B. [4, 3, 2]\n",
    "# C. [4, 3]\n",
    "# D. [4, 3, 2, 1]"
   ]
  },
  {
   "cell_type": "code",
   "execution_count": null,
   "metadata": {},
   "outputs": [],
   "source": [
    "# Q-4. What will be the output of the following code snippet?\n",
    "\n",
    "def f(value, values):\n",
    "    v = 1\n",
    "    values[0] = 44\n",
    "t = 3\n",
    "v = [1, 2, 3]\n",
    "f(t, v)\n",
    "print(t, v[0])\n",
    "# A. 1 44\n",
    "# B. 3 1\n",
    "# C. 3 44\n",
    "# D. 1 1"
   ]
  },
  {
   "cell_type": "code",
   "execution_count": null,
   "metadata": {},
   "outputs": [],
   "source": [
    "# Q-5. What is the correct command to shuffle the following list?\n",
    "\n",
    "fruit=['apple', 'banana', 'papaya', 'cherry']\n",
    "# A. fruit.shuffle()\n",
    "# B. shuffle(fruit)\n",
    "# C. random.shuffle(fruit)\n",
    "# D. random.shuffleList(fruit)\n",
    "import random\n",
    "random.shuffle(fruit)\n",
    "fruit"
   ]
  },
  {
   "cell_type": "code",
   "execution_count": null,
   "metadata": {},
   "outputs": [],
   "source": [
    "# Q-6. What will be the output of the following code snippet?\n",
    "\n",
    "data = [[[1, 2], [3, 4]], [[5, 6], [7, 8]]]\n",
    "def fun(m):\n",
    "    v = m[0][0]\n",
    "\n",
    "    for row in m:\n",
    "        for element in row:\n",
    "            if v < element: v = element\n",
    "\n",
    "    return v\n",
    "print(fun(data[0]))\n",
    "# A. 1\n",
    "# B. 2\n",
    "# C. 3 \n",
    "# D. 4\n",
    "# E. 5\n",
    "# F. 6"
   ]
  },
  {
   "cell_type": "code",
   "execution_count": null,
   "metadata": {},
   "outputs": [],
   "source": [
    "# Q-7. What will be the output of the following code snippet?\n",
    "\n",
    "arr = [[1, 2, 3, 4],\n",
    "       [4, 5, 6, 7],\n",
    "       [8, 9, 10, 11],\n",
    "       [12, 13, 14, 15]]\n",
    "for i in range(0, 4):\n",
    "    print(arr[i].pop())\n",
    "# A. 1 2 3 4\n",
    "# B. 1 4 8 12\n",
    "# C. 4 7 11 15 \n",
    "# D. 12,13,14,15"
   ]
  },
  {
   "cell_type": "code",
   "execution_count": null,
   "metadata": {},
   "outputs": [],
   "source": [
    "# Q-8. What will be the output of the following code snippet?\n",
    "\n",
    "def f(i, values = []):\n",
    "    values.append(i)\n",
    "    print (values)\n",
    "    return values\n",
    "f(1)\n",
    "f(2)\n",
    "f(3)\n",
    "# A. [1] [2] [3]\n",
    "# B. [1, 2, 3]\n",
    "# C. [1] [1, 2] [1, 2, 3]\n",
    "# D. 1 2 3"
   ]
  },
  {
   "cell_type": "code",
   "execution_count": null,
   "metadata": {},
   "outputs": [],
   "source": [
    "# Q-9. What will be the output of the following code snippet?\n",
    "\n",
    "arr = [1, 2, 3, 4, 5, 6]\n",
    "for i in range(1, 6):\n",
    "    arr[i - 1] = arr[i]\n",
    "for i in range(0, 6): \n",
    "    print(arr[i], end = \" \")\n",
    "# A. 1 2 3 4 5 6\n",
    "# B. 2 3 4 5 6 1\n",
    "# C. 1 1 2 3 4 5 \n",
    "# D. 2 3 4 5 6 6"
   ]
  },
  {
   "cell_type": "code",
   "execution_count": null,
   "metadata": {},
   "outputs": [],
   "source": [
    "# Q-10. What will be the output of the following code snippet?\n",
    "\n",
    "fruit_list1 = ['Apple', 'Berry', 'Cherry', 'Papaya']\n",
    "fruit_list2 = fruit_list1\n",
    "fruit_list3 = fruit_list1[:]\n",
    "\n",
    "fruit_list2[0] = 'Guava'\n",
    "fruit_list3[1] = 'Kiwi'\n",
    "\n",
    "sum = 0\n",
    "for ls in (fruit_list1, fruit_list2, fruit_list3):\n",
    "    if ls[0] == 'Guava':\n",
    "        sum += 1\n",
    "    if ls[1] == 'Kiwi':\n",
    "        sum += 20\n",
    "\n",
    "print(sum)\n",
    "# A. 22\n",
    "# B. 21\n",
    "# C. 0\n",
    "# D. 43"
   ]
  }
 ],
 "metadata": {
  "interpreter": {
   "hash": "b3ba2566441a7c06988d0923437866b63cedc61552a5af99d1f4fb67d367b25f"
  },
  "kernelspec": {
   "display_name": "Python 3.9.7 ('base')",
   "language": "python",
   "name": "python3"
  },
  "language_info": {
   "codemirror_mode": {
    "name": "ipython",
    "version": 3
   },
   "file_extension": ".py",
   "mimetype": "text/x-python",
   "name": "python",
   "nbconvert_exporter": "python",
   "pygments_lexer": "ipython3",
   "version": "3.9.7"
  },
  "orig_nbformat": 4
 },
 "nbformat": 4,
 "nbformat_minor": 2
}
